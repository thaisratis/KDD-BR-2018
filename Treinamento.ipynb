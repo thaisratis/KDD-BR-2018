{
 "cells": [
  {
   "cell_type": "markdown",
   "metadata": {},
   "source": [
    "# Dependências"
   ]
  },
  {
   "cell_type": "code",
   "execution_count": 13,
   "metadata": {},
   "outputs": [],
   "source": [
    "%matplotlib inline\n",
    "\n",
    "import matplotlib.pyplot as plt\n",
    "import pandas as pd\n",
    "import numpy as np\n",
    "from keras.models import Sequential\n",
    "from keras.layers import Dense\n",
    "from keras.activations import relu, linear\n",
    "from keras.metrics import MAE\n",
    "from sklearn.metrics import r2_score\n",
    "from sklearn.model_selection import train_test_split\n",
    "from sklearn.preprocessing import MinMaxScaler"
   ]
  },
  {
   "cell_type": "markdown",
   "metadata": {},
   "source": [
    "## Utils "
   ]
  },
  {
   "cell_type": "code",
   "execution_count": 2,
   "metadata": {},
   "outputs": [],
   "source": [
    "def plot_acc_loss(history):\n",
    "    plt.figure()\n",
    "    plt.plot(history.history['loss'], label='train')\n",
    "    plt.plot(history.history['val_loss'], label='val')\n",
    "    plt.xlabel('Epoch')\n",
    "    plt.ylabel('Loss')\n",
    "    plt.title('Loss')\n",
    "    plt.legend()\n",
    "    plt.tight_layout()"
   ]
  },
  {
   "cell_type": "markdown",
   "metadata": {},
   "source": [
    "## Carrega dados de treinamento"
   ]
  },
  {
   "cell_type": "code",
   "execution_count": 3,
   "metadata": {},
   "outputs": [
    {
     "name": "stdout",
     "output_type": "stream",
     "text": [
      "<class 'pandas.core.frame.DataFrame'>\n",
      "RangeIndex: 5243 entries, 0 to 5242\n",
      "Data columns (total 17 columns):\n",
      "Id               5243 non-null int64\n",
      "field            5243 non-null int64\n",
      "age              5243 non-null int64\n",
      "type             5243 non-null int64\n",
      "harvest_year     5243 non-null int64\n",
      "harvest_month    5243 non-null int64\n",
      "production       5243 non-null float64\n",
      "month            5243 non-null int64\n",
      "year             5243 non-null int64\n",
      "temperature      5243 non-null float64\n",
      "dewpoint         5243 non-null float64\n",
      "windspeed        5243 non-null float64\n",
      "Soilwater_L1     5243 non-null float64\n",
      "Soilwater_L2     5243 non-null float64\n",
      "Soilwater_L3     5243 non-null float64\n",
      "Soilwater_L4     5243 non-null float64\n",
      "Precipitation    5243 non-null float64\n",
      "dtypes: float64(9), int64(8)\n",
      "memory usage: 696.4 KB\n"
     ]
    }
   ],
   "source": [
    "data = pd.read_csv('data/data_train_fields.csv', sep=',')\n",
    "data.info()"
   ]
  },
  {
   "cell_type": "code",
   "execution_count": 4,
   "metadata": {},
   "outputs": [
    {
     "data": {
      "text/plain": [
       "((3670, 16), (1573, 16), (3670, 1), (1573, 1))"
      ]
     },
     "execution_count": 4,
     "metadata": {},
     "output_type": "execute_result"
    }
   ],
   "source": [
    "x, y = np.array(data.drop(labels=['production'], axis=1)), np.array(data.production).reshape(-1,1)\n",
    "x_train, x_val, y_train, y_val = train_test_split(x, y, test_size=0.3, random_state=42)\n",
    "x_train.shape, x_val.shape, y_train.shape, y_val.shape"
   ]
  },
  {
   "cell_type": "code",
   "execution_count": 5,
   "metadata": {},
   "outputs": [
    {
     "name": "stdout",
     "output_type": "stream",
     "text": [
      "_________________________________________________________________\n",
      "Layer (type)                 Output Shape              Param #   \n",
      "=================================================================\n",
      "dense_1 (Dense)              (None, 10)                170       \n",
      "_________________________________________________________________\n",
      "dense_2 (Dense)              (None, 20)                220       \n",
      "_________________________________________________________________\n",
      "dense_3 (Dense)              (None, 20)                420       \n",
      "_________________________________________________________________\n",
      "dense_4 (Dense)              (None, 1)                 21        \n",
      "=================================================================\n",
      "Total params: 831\n",
      "Trainable params: 831\n",
      "Non-trainable params: 0\n",
      "_________________________________________________________________\n"
     ]
    }
   ],
   "source": [
    "model = Sequential()\n",
    "model.add(Dense(10, activation='relu', input_dim=x_train.shape[1]))\n",
    "model.add(Dense(20, activation='relu'))\n",
    "model.add(Dense(20, activation='relu'))\n",
    "model.add(Dense(1, activation='linear'))\n",
    "model.summary()"
   ]
  },
  {
   "cell_type": "code",
   "execution_count": 6,
   "metadata": {
    "scrolled": false
   },
   "outputs": [
    {
     "name": "stdout",
     "output_type": "stream",
     "text": [
      "Train on 3670 samples, validate on 1573 samples\n",
      "Epoch 1/100\n",
      "3670/3670 [==============================] - 3s 682us/step - loss: 20.2735 - val_loss: 3.0007\n",
      "Epoch 2/100\n",
      "3670/3670 [==============================] - 1s 160us/step - loss: 1.9083 - val_loss: 1.5727\n",
      "Epoch 3/100\n",
      "3670/3670 [==============================] - 1s 164us/step - loss: 1.3362 - val_loss: 1.5093\n",
      "Epoch 4/100\n",
      "3670/3670 [==============================] - 1s 166us/step - loss: 1.1494 - val_loss: 0.8287\n",
      "Epoch 5/100\n",
      "3670/3670 [==============================] - 1s 161us/step - loss: 0.8895 - val_loss: 1.7213\n",
      "Epoch 6/100\n",
      "3670/3670 [==============================] - 1s 168us/step - loss: 0.8745 - val_loss: 1.1904\n",
      "Epoch 7/100\n",
      "3670/3670 [==============================] - 1s 167us/step - loss: 0.9054 - val_loss: 0.9030\n",
      "Epoch 8/100\n",
      "3670/3670 [==============================] - 1s 167us/step - loss: 0.7429 - val_loss: 0.5784\n",
      "Epoch 9/100\n",
      "3670/3670 [==============================] - 1s 164us/step - loss: 0.6257 - val_loss: 0.9495\n",
      "Epoch 10/100\n",
      "3670/3670 [==============================] - 1s 168us/step - loss: 0.8529 - val_loss: 0.5485\n",
      "Epoch 11/100\n",
      "3670/3670 [==============================] - 1s 163us/step - loss: 0.6356 - val_loss: 0.6797\n",
      "Epoch 12/100\n",
      "3670/3670 [==============================] - 1s 164us/step - loss: 0.7021 - val_loss: 0.6641\n",
      "Epoch 13/100\n",
      "3670/3670 [==============================] - 1s 163us/step - loss: 0.6650 - val_loss: 0.5568\n",
      "Epoch 14/100\n",
      "3670/3670 [==============================] - 1s 163us/step - loss: 0.7471 - val_loss: 0.7216\n",
      "Epoch 15/100\n",
      "3670/3670 [==============================] - 1s 164us/step - loss: 0.5690 - val_loss: 0.5388\n",
      "Epoch 16/100\n",
      "3670/3670 [==============================] - 1s 168us/step - loss: 0.5664 - val_loss: 0.8508\n",
      "Epoch 17/100\n",
      "3670/3670 [==============================] - 1s 163us/step - loss: 0.6409 - val_loss: 0.6127\n",
      "Epoch 18/100\n",
      "3670/3670 [==============================] - 1s 167us/step - loss: 0.3891 - val_loss: 0.2110\n",
      "Epoch 19/100\n",
      "3670/3670 [==============================] - 1s 168us/step - loss: 0.5113 - val_loss: 0.8256\n",
      "Epoch 20/100\n",
      "3670/3670 [==============================] - 1s 160us/step - loss: 0.8069 - val_loss: 0.4636\n",
      "Epoch 21/100\n",
      "3670/3670 [==============================] - 1s 160us/step - loss: 0.5927 - val_loss: 0.6019\n",
      "Epoch 22/100\n",
      "3670/3670 [==============================] - 1s 168us/step - loss: 0.4740 - val_loss: 0.7202\n",
      "Epoch 23/100\n",
      "3670/3670 [==============================] - 1s 160us/step - loss: 0.5562 - val_loss: 0.6599\n",
      "Epoch 24/100\n",
      "3670/3670 [==============================] - 1s 167us/step - loss: 0.5844 - val_loss: 0.8847\n",
      "Epoch 25/100\n",
      "3670/3670 [==============================] - 1s 166us/step - loss: 0.4086 - val_loss: 0.9087\n",
      "Epoch 26/100\n",
      "3670/3670 [==============================] - 1s 167us/step - loss: 0.4586 - val_loss: 0.9902\n",
      "Epoch 27/100\n",
      "3670/3670 [==============================] - 1s 159us/step - loss: 0.5468 - val_loss: 0.5190\n",
      "Epoch 28/100\n",
      "3670/3670 [==============================] - 1s 160us/step - loss: 0.4560 - val_loss: 0.6412\n",
      "Epoch 29/100\n",
      "3670/3670 [==============================] - 1s 171us/step - loss: 0.4940 - val_loss: 0.3942\n",
      "Epoch 30/100\n",
      "3670/3670 [==============================] - 1s 163us/step - loss: 0.4798 - val_loss: 0.4730\n",
      "Epoch 31/100\n",
      "3670/3670 [==============================] - 1s 162us/step - loss: 0.4061 - val_loss: 0.3842\n",
      "Epoch 32/100\n",
      "3670/3670 [==============================] - 1s 170us/step - loss: 0.6055 - val_loss: 0.2723\n",
      "Epoch 33/100\n",
      "3670/3670 [==============================] - 1s 163us/step - loss: 0.3462 - val_loss: 0.6750\n",
      "Epoch 34/100\n",
      "3670/3670 [==============================] - 1s 168us/step - loss: 0.4032 - val_loss: 0.3206\n",
      "Epoch 35/100\n",
      "3670/3670 [==============================] - 1s 163us/step - loss: 0.4794 - val_loss: 0.3158\n",
      "Epoch 36/100\n",
      "3670/3670 [==============================] - 1s 168us/step - loss: 0.4950 - val_loss: 0.4227\n",
      "Epoch 37/100\n",
      "3670/3670 [==============================] - 1s 164us/step - loss: 0.5043 - val_loss: 0.3147\n",
      "Epoch 38/100\n",
      "3670/3670 [==============================] - 1s 164us/step - loss: 0.3810 - val_loss: 0.2937\n",
      "Epoch 39/100\n",
      "3670/3670 [==============================] - 1s 169us/step - loss: 0.5268 - val_loss: 0.2965\n",
      "Epoch 40/100\n",
      "3670/3670 [==============================] - 1s 168us/step - loss: 0.4538 - val_loss: 0.2042\n",
      "Epoch 41/100\n",
      "3670/3670 [==============================] - 1s 168us/step - loss: 0.3363 - val_loss: 0.3744\n",
      "Epoch 42/100\n",
      "3670/3670 [==============================] - 1s 164us/step - loss: 0.2911 - val_loss: 0.3459\n",
      "Epoch 43/100\n",
      "3670/3670 [==============================] - 1s 164us/step - loss: 0.3329 - val_loss: 0.2558\n",
      "Epoch 44/100\n",
      "3670/3670 [==============================] - 1s 166us/step - loss: 0.4241 - val_loss: 0.4236\n",
      "Epoch 45/100\n",
      "3670/3670 [==============================] - 1s 166us/step - loss: 0.3279 - val_loss: 0.5876\n",
      "Epoch 46/100\n",
      "3670/3670 [==============================] - 1s 165us/step - loss: 0.4270 - val_loss: 0.9006\n",
      "Epoch 47/100\n",
      "3670/3670 [==============================] - 1s 163us/step - loss: 0.3750 - val_loss: 0.4079\n",
      "Epoch 48/100\n",
      "3670/3670 [==============================] - 1s 164us/step - loss: 0.3689 - val_loss: 0.2874\n",
      "Epoch 49/100\n",
      "3670/3670 [==============================] - 1s 168us/step - loss: 0.3274 - val_loss: 0.4237\n",
      "Epoch 50/100\n",
      "3670/3670 [==============================] - 1s 168us/step - loss: 0.3910 - val_loss: 0.3820\n",
      "Epoch 51/100\n",
      "3670/3670 [==============================] - 1s 163us/step - loss: 0.3279 - val_loss: 0.1373\n",
      "Epoch 52/100\n",
      "3670/3670 [==============================] - 1s 163us/step - loss: 0.2902 - val_loss: 0.3603\n",
      "Epoch 53/100\n",
      "3670/3670 [==============================] - 1s 170us/step - loss: 0.3482 - val_loss: 0.6479\n",
      "Epoch 54/100\n",
      "3670/3670 [==============================] - 1s 163us/step - loss: 0.3709 - val_loss: 0.2267\n",
      "Epoch 55/100\n",
      "3670/3670 [==============================] - 1s 192us/step - loss: 0.2980 - val_loss: 0.3702\n",
      "Epoch 56/100\n",
      "3670/3670 [==============================] - 1s 170us/step - loss: 0.2331 - val_loss: 0.2268\n",
      "Epoch 57/100\n",
      "3670/3670 [==============================] - 1s 168us/step - loss: 0.2423 - val_loss: 0.2141\n",
      "Epoch 58/100\n",
      "3670/3670 [==============================] - 1s 168us/step - loss: 0.2556 - val_loss: 0.5537\n",
      "Epoch 59/100\n",
      "3670/3670 [==============================] - 1s 168us/step - loss: 0.3611 - val_loss: 0.1442\n",
      "Epoch 60/100\n",
      "3670/3670 [==============================] - 1s 172us/step - loss: 0.2643 - val_loss: 0.5970\n",
      "Epoch 61/100\n",
      "3670/3670 [==============================] - 1s 165us/step - loss: 0.3697 - val_loss: 0.4191\n",
      "Epoch 62/100\n",
      "3670/3670 [==============================] - 1s 172us/step - loss: 0.3586 - val_loss: 0.2314\n",
      "Epoch 63/100\n",
      "3670/3670 [==============================] - 1s 164us/step - loss: 0.3482 - val_loss: 0.1909\n",
      "Epoch 64/100\n",
      "3670/3670 [==============================] - 1s 168us/step - loss: 0.3073 - val_loss: 0.2116\n",
      "Epoch 65/100\n",
      "3670/3670 [==============================] - 1s 169us/step - loss: 0.2782 - val_loss: 0.2043\n",
      "Epoch 66/100\n",
      "3670/3670 [==============================] - 1s 168us/step - loss: 0.3852 - val_loss: 0.2053\n",
      "Epoch 67/100\n",
      "3670/3670 [==============================] - 1s 164us/step - loss: 0.2974 - val_loss: 0.2033\n",
      "Epoch 68/100\n",
      "3670/3670 [==============================] - 1s 173us/step - loss: 0.2533 - val_loss: 0.2784\n",
      "Epoch 69/100\n",
      "3670/3670 [==============================] - 1s 178us/step - loss: 0.2644 - val_loss: 0.3332\n",
      "Epoch 70/100\n",
      "3670/3670 [==============================] - 1s 175us/step - loss: 0.2842 - val_loss: 0.1557\n",
      "Epoch 71/100\n",
      "3670/3670 [==============================] - 1s 178us/step - loss: 0.2612 - val_loss: 0.2032\n",
      "Epoch 72/100\n",
      "3670/3670 [==============================] - 1s 170us/step - loss: 0.2479 - val_loss: 0.2992\n",
      "Epoch 73/100\n",
      "3670/3670 [==============================] - 1s 170us/step - loss: 0.2989 - val_loss: 0.2191\n",
      "Epoch 74/100\n",
      "3670/3670 [==============================] - 1s 180us/step - loss: 0.2528 - val_loss: 0.3832\n",
      "Epoch 75/100\n",
      "3670/3670 [==============================] - 1s 168us/step - loss: 0.2689 - val_loss: 0.1250\n",
      "Epoch 76/100\n",
      "3670/3670 [==============================] - 1s 169us/step - loss: 0.1739 - val_loss: 0.1176\n",
      "Epoch 77/100\n",
      "3670/3670 [==============================] - 1s 173us/step - loss: 0.1919 - val_loss: 0.1844\n"
     ]
    },
    {
     "name": "stdout",
     "output_type": "stream",
     "text": [
      "Epoch 78/100\n",
      "3670/3670 [==============================] - 1s 159us/step - loss: 0.1466 - val_loss: 0.3912\n",
      "Epoch 79/100\n",
      "3670/3670 [==============================] - 1s 164us/step - loss: 0.2447 - val_loss: 0.1543\n",
      "Epoch 80/100\n",
      "3670/3670 [==============================] - 1s 159us/step - loss: 0.1986 - val_loss: 0.2177\n",
      "Epoch 81/100\n",
      "3670/3670 [==============================] - 1s 160us/step - loss: 0.2235 - val_loss: 0.1580\n",
      "Epoch 82/100\n",
      "3670/3670 [==============================] - 1s 164us/step - loss: 0.1869 - val_loss: 0.1968\n",
      "Epoch 83/100\n",
      "3670/3670 [==============================] - 1s 159us/step - loss: 0.2225 - val_loss: 0.1052\n",
      "Epoch 84/100\n",
      "3670/3670 [==============================] - 1s 161us/step - loss: 0.1538 - val_loss: 0.1110\n",
      "Epoch 85/100\n",
      "3670/3670 [==============================] - 1s 161us/step - loss: 0.1887 - val_loss: 0.1078\n",
      "Epoch 86/100\n",
      "3670/3670 [==============================] - 1s 163us/step - loss: 0.1573 - val_loss: 0.2073\n",
      "Epoch 87/100\n",
      "3670/3670 [==============================] - 1s 163us/step - loss: 0.1390 - val_loss: 0.1845\n",
      "Epoch 88/100\n",
      "3670/3670 [==============================] - 1s 159us/step - loss: 0.1638 - val_loss: 0.4101\n",
      "Epoch 89/100\n",
      "3670/3670 [==============================] - 1s 163us/step - loss: 0.2390 - val_loss: 0.1994\n",
      "Epoch 90/100\n",
      "3670/3670 [==============================] - 1s 164us/step - loss: 0.1583 - val_loss: 0.1448\n",
      "Epoch 91/100\n",
      "3670/3670 [==============================] - 1s 160us/step - loss: 0.1639 - val_loss: 0.2228\n",
      "Epoch 92/100\n",
      "3670/3670 [==============================] - 1s 168us/step - loss: 0.1414 - val_loss: 0.1780\n",
      "Epoch 93/100\n",
      "3670/3670 [==============================] - 1s 164us/step - loss: 0.1964 - val_loss: 0.3499\n",
      "Epoch 94/100\n",
      "3670/3670 [==============================] - 1s 163us/step - loss: 0.1629 - val_loss: 0.1662\n",
      "Epoch 95/100\n",
      "3670/3670 [==============================] - 1s 164us/step - loss: 0.1835 - val_loss: 0.1178\n",
      "Epoch 96/100\n",
      "3670/3670 [==============================] - 1s 164us/step - loss: 0.1781 - val_loss: 0.1869\n",
      "Epoch 97/100\n",
      "3670/3670 [==============================] - 1s 168us/step - loss: 0.1311 - val_loss: 0.0923\n",
      "Epoch 98/100\n",
      "3670/3670 [==============================] - 1s 167us/step - loss: 0.1376 - val_loss: 0.1822\n",
      "Epoch 99/100\n",
      "3670/3670 [==============================] - 1s 162us/step - loss: 0.1370 - val_loss: 0.1275\n",
      "Epoch 100/100\n",
      "3670/3670 [==============================] - 1s 168us/step - loss: 0.1632 - val_loss: 0.0980\n"
     ]
    }
   ],
   "source": [
    "model.compile(optimizer='adam', loss=\"mean_absolute_error\")\n",
    "history = model.fit(x=x_train, y=y_train, batch_size=32, epochs=100, validation_data=(x_val, y_val))"
   ]
  },
  {
   "cell_type": "code",
   "execution_count": 7,
   "metadata": {},
   "outputs": [
    {
     "data": {
      "image/png": "[encoded data removed]",
      "text/plain": [
       "<Figure size 432x288 with 1 Axes>"
      ]
     },
     "metadata": {
      "needs_background": "light"
     },
     "output_type": "display_data"
    }
   ],
   "source": [
    "plot_acc_loss(history)"
   ]
  },
  {
   "cell_type": "markdown",
   "metadata": {},
   "source": [
    "### Preparando arquivo de submissão "
   ]
  },
  {
   "cell_type": "code",
   "execution_count": 17,
   "metadata": {},
   "outputs": [],
   "source": [
    "df_test = pd.read_csv('data/data_test_fields.csv', sep=\",\")\n",
    "x_test = np.array(df_test)\n",
    "y_pred = model.predict(x_test)\n",
    "scaller = MinMaxScaler(feature_range=(0,1))\n",
    "y_pred = scaller.fit_transform(y_pred)\n",
    "df_test['production'] = y_pred"
   ]
  },
  {
   "cell_type": "code",
   "execution_count": 18,
   "metadata": {},
   "outputs": [
    {
     "data": {
      "text/plain": [
       "(4110, 17)"
      ]
     },
     "execution_count": 18,
     "metadata": {},
     "output_type": "execute_result"
    }
   ],
   "source": [
    "df_test.shape"
   ]
  },
  {
   "cell_type": "code",
   "execution_count": 19,
   "metadata": {},
   "outputs": [],
   "source": [
    "df_test.to_csv('data/submission.csv', sep=\",\", columns=['Id', 'production'], index=False)"
   ]
  }
 ],
 "metadata": {
  "kernelspec": {
   "display_name": "Python 3",
   "language": "python",
   "name": "python3"
  },
  "language_info": {
   "codemirror_mode": {
    "name": "ipython",
    "version": 3
   },
   "file_extension": ".py",
   "mimetype": "text/x-python",
   "name": "python",
   "nbconvert_exporter": "python",
   "pygments_lexer": "ipython3",
   "version": "3.6.6"
  }
 },
 "nbformat": 4,
 "nbformat_minor": 2
}
