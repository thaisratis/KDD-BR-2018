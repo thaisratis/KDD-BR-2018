{
 "cells": [
  {
   "cell_type": "markdown",
   "metadata": {},
   "source": [
    "# Dependências"
   ]
  },
  {
   "cell_type": "code",
   "execution_count": 7,
   "metadata": {},
   "outputs": [],
   "source": [
    "%matplotlib inline\n",
    "\n",
    "import matplotlib.pyplot as plt\n",
    "import pandas as pd\n",
    "import numpy as np\n",
    "from keras.models import Sequential\n",
    "from keras.layers import Dense\n",
    "from keras.activations import relu, linear\n",
    "from keras.metrics import MAE\n",
    "from sklearn.metrics import r2_score\n",
    "from sklearn.model_selection import train_test_split\n",
    "from sklearn.preprocessing import MinMaxScaler, StandardScaler"
   ]
  },
  {
   "cell_type": "markdown",
   "metadata": {},
   "source": [
    "## Utils "
   ]
  },
  {
   "cell_type": "code",
   "execution_count": 4,
   "metadata": {},
   "outputs": [],
   "source": [
    "def plot_acc_loss(history):\n",
    "    plt.figure()\n",
    "    plt.plot(history.history['loss'], label='train')\n",
    "    plt.plot(history.history['val_loss'], label='val')\n",
    "    plt.xlabel('Epoch')\n",
    "    plt.ylabel('Loss')\n",
    "    plt.title('Loss')\n",
    "    plt.legend()\n",
    "    plt.tight_layout()"
   ]
  },
  {
   "cell_type": "markdown",
   "metadata": {},
   "source": [
    "## Carrega dados de treinamento"
   ]
  },
  {
   "cell_type": "code",
   "execution_count": 5,
   "metadata": {},
   "outputs": [
    {
     "name": "stdout",
     "output_type": "stream",
     "text": [
      "<class 'pandas.core.frame.DataFrame'>\n",
      "RangeIndex: 5243 entries, 0 to 5242\n",
      "Data columns (total 17 columns):\n",
      "Id               5243 non-null int64\n",
      "field            5243 non-null int64\n",
      "age              5243 non-null int64\n",
      "type             5243 non-null int64\n",
      "harvest_year     5243 non-null int64\n",
      "harvest_month    5243 non-null int64\n",
      "production       5243 non-null float64\n",
      "month            5243 non-null int64\n",
      "year             5243 non-null int64\n",
      "temperature      5243 non-null float64\n",
      "dewpoint         5243 non-null float64\n",
      "windspeed        5243 non-null float64\n",
      "Soilwater_L1     5243 non-null float64\n",
      "Soilwater_L2     5243 non-null float64\n",
      "Soilwater_L3     5243 non-null float64\n",
      "Soilwater_L4     5243 non-null float64\n",
      "Precipitation    5243 non-null float64\n",
      "dtypes: float64(9), int64(8)\n",
      "memory usage: 696.4 KB\n"
     ]
    }
   ],
   "source": [
    "data = pd.read_csv('data/data_train_fields.csv', sep=',')\n",
    "data.info()"
   ]
  },
  {
   "cell_type": "code",
   "execution_count": 6,
   "metadata": {},
   "outputs": [
    {
     "name": "stdout",
     "output_type": "stream",
     "text": [
      "(3670, 16) (1573, 16) (3670, 1) (1573, 1)\n"
     ]
    }
   ],
   "source": [
    "x, y = np.array(data.drop(labels=['production'], axis=1)), np.array(data.production).reshape(-1,1)\n",
    "x_train, x_val, y_train, y_val = train_test_split(x, y, test_size=0.3, random_state=42)\n",
    "\n",
    "print(x_train.shape, x_val.shape, y_train.shape, y_val.shape)"
   ]
  },
  {
   "cell_type": "code",
   "execution_count": 8,
   "metadata": {},
   "outputs": [],
   "source": [
    "std = StandardScaler()\n",
    "std.fit(x_train)\n",
    "x_train = std.transform(x_train)\n",
    "x_val = std.transform(x_val)"
   ]
  },
  {
   "cell_type": "code",
   "execution_count": 10,
   "metadata": {
    "scrolled": false
   },
   "outputs": [
    {
     "name": "stdout",
     "output_type": "stream",
     "text": [
      "_________________________________________________________________\n",
      "Layer (type)                 Output Shape              Param #   \n",
      "=================================================================\n",
      "dense_5 (Dense)              (None, 10)                170       \n",
      "_________________________________________________________________\n",
      "dense_6 (Dense)              (None, 20)                220       \n",
      "_________________________________________________________________\n",
      "dense_7 (Dense)              (None, 20)                420       \n",
      "_________________________________________________________________\n",
      "dense_8 (Dense)              (None, 1)                 21        \n",
      "=================================================================\n",
      "Total params: 831\n",
      "Trainable params: 831\n",
      "Non-trainable params: 0\n",
      "_________________________________________________________________\n",
      "None\n",
      "Train on 3670 samples, validate on 1573 samples\n",
      "Epoch 1/100\n",
      "3670/3670 [==============================] - 0s 134us/step - loss: 0.1458 - val_loss: 0.0983\n",
      "Epoch 2/100\n",
      "3670/3670 [==============================] - 0s 41us/step - loss: 0.0864 - val_loss: 0.0887\n",
      "Epoch 3/100\n",
      "3670/3670 [==============================] - 0s 43us/step - loss: 0.0792 - val_loss: 0.0842\n",
      "Epoch 4/100\n",
      "3670/3670 [==============================] - 0s 34us/step - loss: 0.0759 - val_loss: 0.0906\n",
      "Epoch 5/100\n",
      "3670/3670 [==============================] - 0s 35us/step - loss: 0.0748 - val_loss: 0.0805\n",
      "Epoch 6/100\n",
      "3670/3670 [==============================] - 0s 54us/step - loss: 0.0717 - val_loss: 0.0787\n",
      "Epoch 7/100\n",
      "3670/3670 [==============================] - 0s 36us/step - loss: 0.0717 - val_loss: 0.0790\n",
      "Epoch 8/100\n",
      "3670/3670 [==============================] - 0s 35us/step - loss: 0.0699 - val_loss: 0.0768\n",
      "Epoch 9/100\n",
      "3670/3670 [==============================] - 0s 41us/step - loss: 0.0699 - val_loss: 0.0766\n",
      "Epoch 10/100\n",
      "3670/3670 [==============================] - 0s 60us/step - loss: 0.0687 - val_loss: 0.0759\n",
      "Epoch 11/100\n",
      "3670/3670 [==============================] - 0s 43us/step - loss: 0.0686 - val_loss: 0.0759\n",
      "Epoch 12/100\n",
      "3670/3670 [==============================] - 0s 41us/step - loss: 0.0679 - val_loss: 0.0746\n",
      "Epoch 13/100\n",
      "3670/3670 [==============================] - 0s 44us/step - loss: 0.0673 - val_loss: 0.0739\n",
      "Epoch 14/100\n",
      "3670/3670 [==============================] - 0s 45us/step - loss: 0.0671 - val_loss: 0.0732\n",
      "Epoch 15/100\n",
      "3670/3670 [==============================] - 0s 41us/step - loss: 0.0666 - val_loss: 0.0747\n",
      "Epoch 16/100\n",
      "3670/3670 [==============================] - 0s 44us/step - loss: 0.0662 - val_loss: 0.0724\n",
      "Epoch 17/100\n",
      "3670/3670 [==============================] - 0s 55us/step - loss: 0.0657 - val_loss: 0.0732\n",
      "Epoch 18/100\n",
      "3670/3670 [==============================] - 0s 37us/step - loss: 0.0662 - val_loss: 0.0716\n",
      "Epoch 19/100\n",
      "3670/3670 [==============================] - 0s 45us/step - loss: 0.0652 - val_loss: 0.0715\n",
      "Epoch 20/100\n",
      "3670/3670 [==============================] - 0s 36us/step - loss: 0.0650 - val_loss: 0.0712\n",
      "Epoch 21/100\n",
      "3670/3670 [==============================] - 0s 49us/step - loss: 0.0644 - val_loss: 0.0707\n",
      "Epoch 22/100\n",
      "3670/3670 [==============================] - 0s 40us/step - loss: 0.0638 - val_loss: 0.0704\n",
      "Epoch 23/100\n",
      "3670/3670 [==============================] - 0s 34us/step - loss: 0.0636 - val_loss: 0.0702\n",
      "Epoch 24/100\n",
      "3670/3670 [==============================] - 0s 36us/step - loss: 0.0627 - val_loss: 0.0706\n",
      "Epoch 25/100\n",
      "3670/3670 [==============================] - 0s 37us/step - loss: 0.0625 - val_loss: 0.0690\n",
      "Epoch 26/100\n",
      "3670/3670 [==============================] - 0s 38us/step - loss: 0.0621 - val_loss: 0.0690\n",
      "Epoch 27/100\n",
      "3670/3670 [==============================] - 0s 38us/step - loss: 0.0618 - val_loss: 0.0689\n",
      "Epoch 28/100\n",
      "3670/3670 [==============================] - 0s 53us/step - loss: 0.0615 - val_loss: 0.0708\n",
      "Epoch 29/100\n",
      "3670/3670 [==============================] - 0s 44us/step - loss: 0.0613 - val_loss: 0.0710\n",
      "Epoch 30/100\n",
      "3670/3670 [==============================] - 0s 31us/step - loss: 0.0612 - val_loss: 0.0690\n",
      "Epoch 31/100\n",
      "3670/3670 [==============================] - 0s 36us/step - loss: 0.0614 - val_loss: 0.0691\n",
      "Epoch 32/100\n",
      "3670/3670 [==============================] - 0s 35us/step - loss: 0.0606 - val_loss: 0.0680\n",
      "Epoch 33/100\n",
      "3670/3670 [==============================] - 0s 38us/step - loss: 0.0618 - val_loss: 0.0687\n",
      "Epoch 34/100\n",
      "3670/3670 [==============================] - 0s 33us/step - loss: 0.0606 - val_loss: 0.0685\n",
      "Epoch 35/100\n",
      "3670/3670 [==============================] - 0s 36us/step - loss: 0.0598 - val_loss: 0.0680\n",
      "Epoch 36/100\n",
      "3670/3670 [==============================] - 0s 37us/step - loss: 0.0603 - val_loss: 0.0688\n",
      "Epoch 37/100\n",
      "3670/3670 [==============================] - 0s 36us/step - loss: 0.0597 - val_loss: 0.0675\n",
      "Epoch 38/100\n",
      "3670/3670 [==============================] - 0s 36us/step - loss: 0.0592 - val_loss: 0.0662\n",
      "Epoch 39/100\n",
      "3670/3670 [==============================] - 0s 46us/step - loss: 0.0598 - val_loss: 0.0668\n",
      "Epoch 40/100\n",
      "3670/3670 [==============================] - 0s 45us/step - loss: 0.0597 - val_loss: 0.0674\n",
      "Epoch 41/100\n",
      "3670/3670 [==============================] - 0s 35us/step - loss: 0.0589 - val_loss: 0.0667\n",
      "Epoch 42/100\n",
      "3670/3670 [==============================] - 0s 35us/step - loss: 0.0589 - val_loss: 0.0661\n",
      "Epoch 43/100\n",
      "3670/3670 [==============================] - 0s 35us/step - loss: 0.0584 - val_loss: 0.0664\n",
      "Epoch 44/100\n",
      "3670/3670 [==============================] - 0s 33us/step - loss: 0.0592 - val_loss: 0.0667\n",
      "Epoch 45/100\n",
      "3670/3670 [==============================] - 0s 35us/step - loss: 0.0589 - val_loss: 0.0673\n",
      "Epoch 46/100\n",
      "3670/3670 [==============================] - 0s 34us/step - loss: 0.0583 - val_loss: 0.0670\n",
      "Epoch 47/100\n",
      "3670/3670 [==============================] - 0s 37us/step - loss: 0.0579 - val_loss: 0.0657\n",
      "Epoch 48/100\n",
      "3670/3670 [==============================] - 0s 37us/step - loss: 0.0581 - val_loss: 0.0672\n",
      "Epoch 49/100\n",
      "3670/3670 [==============================] - 0s 51us/step - loss: 0.0581 - val_loss: 0.0653\n",
      "Epoch 50/100\n",
      "3670/3670 [==============================] - 0s 46us/step - loss: 0.0577 - val_loss: 0.0657\n",
      "Epoch 51/100\n",
      "3670/3670 [==============================] - 0s 36us/step - loss: 0.0575 - val_loss: 0.0663\n",
      "Epoch 52/100\n",
      "3670/3670 [==============================] - 0s 35us/step - loss: 0.0573 - val_loss: 0.0652\n",
      "Epoch 53/100\n",
      "3670/3670 [==============================] - 0s 36us/step - loss: 0.0577 - val_loss: 0.0653\n",
      "Epoch 54/100\n",
      "3670/3670 [==============================] - 0s 34us/step - loss: 0.0573 - val_loss: 0.0656\n",
      "Epoch 55/100\n",
      "3670/3670 [==============================] - 0s 37us/step - loss: 0.0573 - val_loss: 0.0650\n",
      "Epoch 56/100\n",
      "3670/3670 [==============================] - 0s 38us/step - loss: 0.0569 - val_loss: 0.0652\n",
      "Epoch 57/100\n",
      "3670/3670 [==============================] - 0s 35us/step - loss: 0.0573 - val_loss: 0.0650\n",
      "Epoch 58/100\n",
      "3670/3670 [==============================] - 0s 47us/step - loss: 0.0565 - val_loss: 0.0655\n",
      "Epoch 59/100\n",
      "3670/3670 [==============================] - 0s 48us/step - loss: 0.0566 - val_loss: 0.0642\n",
      "Epoch 60/100\n",
      "3670/3670 [==============================] - 0s 36us/step - loss: 0.0567 - val_loss: 0.0680\n",
      "Epoch 61/100\n",
      "3670/3670 [==============================] - 0s 39us/step - loss: 0.0570 - val_loss: 0.0649\n",
      "Epoch 62/100\n",
      "3670/3670 [==============================] - 0s 41us/step - loss: 0.0565 - val_loss: 0.0656\n",
      "Epoch 63/100\n",
      "3670/3670 [==============================] - 0s 45us/step - loss: 0.0564 - val_loss: 0.0641\n",
      "Epoch 64/100\n",
      "3670/3670 [==============================] - 0s 44us/step - loss: 0.0566 - val_loss: 0.0661\n",
      "Epoch 65/100\n",
      "3670/3670 [==============================] - 0s 32us/step - loss: 0.0562 - val_loss: 0.0654\n",
      "Epoch 66/100\n",
      "3670/3670 [==============================] - 0s 34us/step - loss: 0.0558 - val_loss: 0.0653\n",
      "Epoch 67/100\n",
      "3670/3670 [==============================] - 0s 39us/step - loss: 0.0564 - val_loss: 0.0653\n",
      "Epoch 68/100\n",
      "3670/3670 [==============================] - 0s 36us/step - loss: 0.0560 - val_loss: 0.0645\n",
      "Epoch 69/100\n",
      "3670/3670 [==============================] - 0s 38us/step - loss: 0.0558 - val_loss: 0.0646\n",
      "Epoch 70/100\n"
     ]
    },
    {
     "name": "stdout",
     "output_type": "stream",
     "text": [
      "3670/3670 [==============================] - 0s 37us/step - loss: 0.0554 - val_loss: 0.0647\n",
      "Epoch 71/100\n",
      "3670/3670 [==============================] - 0s 31us/step - loss: 0.0559 - val_loss: 0.0649\n",
      "Epoch 72/100\n",
      "3670/3670 [==============================] - 0s 30us/step - loss: 0.0553 - val_loss: 0.0655\n",
      "Epoch 73/100\n",
      "3670/3670 [==============================] - 0s 31us/step - loss: 0.0552 - val_loss: 0.0661\n",
      "Epoch 74/100\n",
      "3670/3670 [==============================] - 0s 34us/step - loss: 0.0554 - val_loss: 0.0629\n",
      "Epoch 75/100\n",
      "3670/3670 [==============================] - 0s 33us/step - loss: 0.0554 - val_loss: 0.0655\n",
      "Epoch 76/100\n",
      "3670/3670 [==============================] - 0s 30us/step - loss: 0.0557 - val_loss: 0.0674\n",
      "Epoch 77/100\n",
      "3670/3670 [==============================] - 0s 34us/step - loss: 0.0554 - val_loss: 0.0646\n",
      "Epoch 78/100\n",
      "3670/3670 [==============================] - 0s 37us/step - loss: 0.0560 - val_loss: 0.0635\n",
      "Epoch 79/100\n",
      "3670/3670 [==============================] - 0s 52us/step - loss: 0.0555 - val_loss: 0.0641\n",
      "Epoch 80/100\n",
      "3670/3670 [==============================] - 0s 35us/step - loss: 0.0550 - val_loss: 0.0645\n",
      "Epoch 81/100\n",
      "3670/3670 [==============================] - 0s 39us/step - loss: 0.0551 - val_loss: 0.0638\n",
      "Epoch 82/100\n",
      "3670/3670 [==============================] - 0s 52us/step - loss: 0.0548 - val_loss: 0.0643\n",
      "Epoch 83/100\n",
      "3670/3670 [==============================] - 0s 39us/step - loss: 0.0548 - val_loss: 0.0640\n",
      "Epoch 84/100\n",
      "3670/3670 [==============================] - 0s 31us/step - loss: 0.0549 - val_loss: 0.0638\n",
      "Epoch 85/100\n",
      "3670/3670 [==============================] - 0s 45us/step - loss: 0.0544 - val_loss: 0.0652\n",
      "Epoch 86/100\n",
      "3670/3670 [==============================] - 0s 48us/step - loss: 0.0544 - val_loss: 0.0642\n",
      "Epoch 87/100\n",
      "3670/3670 [==============================] - 0s 33us/step - loss: 0.0552 - val_loss: 0.0635\n",
      "Epoch 88/100\n",
      "3670/3670 [==============================] - 0s 31us/step - loss: 0.0554 - val_loss: 0.0634\n",
      "Epoch 89/100\n",
      "3670/3670 [==============================] - 0s 33us/step - loss: 0.0550 - val_loss: 0.0629\n",
      "Epoch 90/100\n",
      "3670/3670 [==============================] - 0s 36us/step - loss: 0.0544 - val_loss: 0.0636\n",
      "Epoch 91/100\n",
      "3670/3670 [==============================] - 0s 31us/step - loss: 0.0544 - val_loss: 0.0640\n",
      "Epoch 92/100\n",
      "3670/3670 [==============================] - 0s 56us/step - loss: 0.0541 - val_loss: 0.0630\n",
      "Epoch 93/100\n",
      "3670/3670 [==============================] - 0s 35us/step - loss: 0.0543 - val_loss: 0.0634\n",
      "Epoch 94/100\n",
      "3670/3670 [==============================] - 0s 35us/step - loss: 0.0539 - val_loss: 0.0640\n",
      "Epoch 95/100\n",
      "3670/3670 [==============================] - 0s 34us/step - loss: 0.0541 - val_loss: 0.0630\n",
      "Epoch 96/100\n",
      "3670/3670 [==============================] - 0s 35us/step - loss: 0.0542 - val_loss: 0.0632\n",
      "Epoch 97/100\n",
      "3670/3670 [==============================] - 0s 34us/step - loss: 0.0557 - val_loss: 0.0622\n",
      "Epoch 98/100\n",
      "3670/3670 [==============================] - 0s 31us/step - loss: 0.0547 - val_loss: 0.0646\n",
      "Epoch 99/100\n",
      "3670/3670 [==============================] - 0s 35us/step - loss: 0.0545 - val_loss: 0.0624\n",
      "Epoch 100/100\n",
      "3670/3670 [==============================] - 0s 37us/step - loss: 0.0539 - val_loss: 0.0639\n"
     ]
    }
   ],
   "source": [
    "model = Sequential()\n",
    "model.add(Dense(10, activation='relu', input_dim=x_train.shape[1]))\n",
    "model.add(Dense(20, activation='relu'))\n",
    "model.add(Dense(20, activation='relu'))\n",
    "model.add(Dense(1, activation='linear'))\n",
    "print(model.summary())\n",
    "\n",
    "model.compile(optimizer='adam', loss=\"mean_absolute_error\")\n",
    "history = model.fit(x=x_train, y=y_train, batch_size=32, epochs=100, validation_data=(x_val, y_val))"
   ]
  },
  {
   "cell_type": "code",
   "execution_count": 11,
   "metadata": {},
   "outputs": [
    {
     "data": {
      "image/png": "[encoded data removed]",
      "text/plain": [
       "<Figure size 432x288 with 1 Axes>"
      ]
     },
     "metadata": {
      "needs_background": "light"
     },
     "output_type": "display_data"
    }
   ],
   "source": [
    "plot_acc_loss(history)"
   ]
  },
  {
   "cell_type": "markdown",
   "metadata": {},
   "source": [
    "### Preparando arquivo de submissão "
   ]
  },
  {
   "cell_type": "code",
   "execution_count": 12,
   "metadata": {},
   "outputs": [],
   "source": [
    "df_test = pd.read_csv('data/data_test_fields.csv', sep=\",\")\n",
    "\n",
    "x_test = np.array(df_test)\n",
    "x_test = std.transform(x_test)\n",
    "y_pred = model.predict(x_test)\n",
    "\n",
    "df_test['production'] = MinMaxScaler().fit_transform(y_pred)"
   ]
  },
  {
   "cell_type": "code",
   "execution_count": 13,
   "metadata": {},
   "outputs": [],
   "source": [
    "df_test.to_csv('data/submission.csv', sep=\",\", columns=['Id', 'production'], index=False)"
   ]
  },
  {
   "cell_type": "code",
   "execution_count": null,
   "metadata": {},
   "outputs": [],
   "source": []
  }
 ],
 "metadata": {
  "kernelspec": {
   "display_name": "Python 3",
   "language": "python",
   "name": "python3"
  },
  "language_info": {
   "codemirror_mode": {
    "name": "ipython",
    "version": 3
   },
   "file_extension": ".py",
   "mimetype": "text/x-python",
   "name": "python",
   "nbconvert_exporter": "python",
   "pygments_lexer": "ipython3",
   "version": "3.6.6"
  }
 },
 "nbformat": 4,
 "nbformat_minor": 2
}
